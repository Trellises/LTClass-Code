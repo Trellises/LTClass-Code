{
  "cells": [
    {
      "cell_type": "markdown",
      "metadata": {
        "id": "view-in-github",
        "colab_type": "text"
      },
      "source": [
        "<a href=\"https://colab.research.google.com/github/Trellises/LTClass-Code/blob/main/Latrell_ThompsonHourlyEnergyProjri.ipynb\" target=\"_parent\"><img src=\"https://colab.research.google.com/assets/colab-badge.svg\" alt=\"Open In Colab\"/></a>"
      ]
    },
    {
      "cell_type": "markdown",
      "source": [
        "These are some important libraries used for python to enhance the data and minipulate the data."
      ],
      "metadata": {
        "id": "JnhWvQbnB0Uq"
      }
    },
    {
      "cell_type": "code",
      "execution_count": null,
      "metadata": {
        "id": "sKMGevghbIK2"
      },
      "outputs": [],
      "source": [
        "import os\n",
        "import datetime\n",
        "\n",
        "import IPython\n",
        "import IPython.display\n",
        "import matplotlib as mpl\n",
        "import matplotlib.pyplot as plt\n",
        "import numpy as np\n",
        "import pandas as pd\n",
        "import seaborn as sns\n",
        "import tensorflow as tf\n",
        "import pdb\n",
        "\n",
        "from tensorflow.keras import layers\n",
        "from tensorflow import keras\n",
        "from sklearn.preprocessing import MinMaxScaler\n",
        "from sklearn.metrics import mean_absolute_error, mean_squared_error\n",
        "mpl.rcParams['figure.figsize'] = (8,6)\n",
        "mpl.rcParams['axes.grid'] = False\n",
        "from sklearn import preprocessing"
      ]
    },
    {
      "cell_type": "markdown",
      "source": [
        "Used to upload the file 'AEP_hourly' Which contains all the data for the model. This data will have a list of MagaWatts of energy used in a household. These come from a list of Interconnected Grid that has data from 16 states."
      ],
      "metadata": {
        "id": "j8qzNvimfqol"
      }
    },
    {
      "cell_type": "code",
      "execution_count": null,
      "metadata": {
        "colab": {
          "base_uri": "https://localhost:8080/",
          "height": 73
        },
        "id": "ow-j1Zqy4t3e",
        "outputId": "367f40be-2668-4d7e-a45d-4b102ff371f0"
      },
      "outputs": [
        {
          "output_type": "display_data",
          "data": {
            "text/plain": [
              "<IPython.core.display.HTML object>"
            ],
            "text/html": [
              "\n",
              "     <input type=\"file\" id=\"files-92663ddd-1838-40b0-879b-b4a5e335c754\" name=\"files[]\" multiple disabled\n",
              "        style=\"border:none\" />\n",
              "     <output id=\"result-92663ddd-1838-40b0-879b-b4a5e335c754\">\n",
              "      Upload widget is only available when the cell has been executed in the\n",
              "      current browser session. Please rerun this cell to enable.\n",
              "      </output>\n",
              "      <script>// Copyright 2017 Google LLC\n",
              "//\n",
              "// Licensed under the Apache License, Version 2.0 (the \"License\");\n",
              "// you may not use this file except in compliance with the License.\n",
              "// You may obtain a copy of the License at\n",
              "//\n",
              "//      http://www.apache.org/licenses/LICENSE-2.0\n",
              "//\n",
              "// Unless required by applicable law or agreed to in writing, software\n",
              "// distributed under the License is distributed on an \"AS IS\" BASIS,\n",
              "// WITHOUT WARRANTIES OR CONDITIONS OF ANY KIND, either express or implied.\n",
              "// See the License for the specific language governing permissions and\n",
              "// limitations under the License.\n",
              "\n",
              "/**\n",
              " * @fileoverview Helpers for google.colab Python module.\n",
              " */\n",
              "(function(scope) {\n",
              "function span(text, styleAttributes = {}) {\n",
              "  const element = document.createElement('span');\n",
              "  element.textContent = text;\n",
              "  for (const key of Object.keys(styleAttributes)) {\n",
              "    element.style[key] = styleAttributes[key];\n",
              "  }\n",
              "  return element;\n",
              "}\n",
              "\n",
              "// Max number of bytes which will be uploaded at a time.\n",
              "const MAX_PAYLOAD_SIZE = 100 * 1024;\n",
              "\n",
              "function _uploadFiles(inputId, outputId) {\n",
              "  const steps = uploadFilesStep(inputId, outputId);\n",
              "  const outputElement = document.getElementById(outputId);\n",
              "  // Cache steps on the outputElement to make it available for the next call\n",
              "  // to uploadFilesContinue from Python.\n",
              "  outputElement.steps = steps;\n",
              "\n",
              "  return _uploadFilesContinue(outputId);\n",
              "}\n",
              "\n",
              "// This is roughly an async generator (not supported in the browser yet),\n",
              "// where there are multiple asynchronous steps and the Python side is going\n",
              "// to poll for completion of each step.\n",
              "// This uses a Promise to block the python side on completion of each step,\n",
              "// then passes the result of the previous step as the input to the next step.\n",
              "function _uploadFilesContinue(outputId) {\n",
              "  const outputElement = document.getElementById(outputId);\n",
              "  const steps = outputElement.steps;\n",
              "\n",
              "  const next = steps.next(outputElement.lastPromiseValue);\n",
              "  return Promise.resolve(next.value.promise).then((value) => {\n",
              "    // Cache the last promise value to make it available to the next\n",
              "    // step of the generator.\n",
              "    outputElement.lastPromiseValue = value;\n",
              "    return next.value.response;\n",
              "  });\n",
              "}\n",
              "\n",
              "/**\n",
              " * Generator function which is called between each async step of the upload\n",
              " * process.\n",
              " * @param {string} inputId Element ID of the input file picker element.\n",
              " * @param {string} outputId Element ID of the output display.\n",
              " * @return {!Iterable<!Object>} Iterable of next steps.\n",
              " */\n",
              "function* uploadFilesStep(inputId, outputId) {\n",
              "  const inputElement = document.getElementById(inputId);\n",
              "  inputElement.disabled = false;\n",
              "\n",
              "  const outputElement = document.getElementById(outputId);\n",
              "  outputElement.innerHTML = '';\n",
              "\n",
              "  const pickedPromise = new Promise((resolve) => {\n",
              "    inputElement.addEventListener('change', (e) => {\n",
              "      resolve(e.target.files);\n",
              "    });\n",
              "  });\n",
              "\n",
              "  const cancel = document.createElement('button');\n",
              "  inputElement.parentElement.appendChild(cancel);\n",
              "  cancel.textContent = 'Cancel upload';\n",
              "  const cancelPromise = new Promise((resolve) => {\n",
              "    cancel.onclick = () => {\n",
              "      resolve(null);\n",
              "    };\n",
              "  });\n",
              "\n",
              "  // Wait for the user to pick the files.\n",
              "  const files = yield {\n",
              "    promise: Promise.race([pickedPromise, cancelPromise]),\n",
              "    response: {\n",
              "      action: 'starting',\n",
              "    }\n",
              "  };\n",
              "\n",
              "  cancel.remove();\n",
              "\n",
              "  // Disable the input element since further picks are not allowed.\n",
              "  inputElement.disabled = true;\n",
              "\n",
              "  if (!files) {\n",
              "    return {\n",
              "      response: {\n",
              "        action: 'complete',\n",
              "      }\n",
              "    };\n",
              "  }\n",
              "\n",
              "  for (const file of files) {\n",
              "    const li = document.createElement('li');\n",
              "    li.append(span(file.name, {fontWeight: 'bold'}));\n",
              "    li.append(span(\n",
              "        `(${file.type || 'n/a'}) - ${file.size} bytes, ` +\n",
              "        `last modified: ${\n",
              "            file.lastModifiedDate ? file.lastModifiedDate.toLocaleDateString() :\n",
              "                                    'n/a'} - `));\n",
              "    const percent = span('0% done');\n",
              "    li.appendChild(percent);\n",
              "\n",
              "    outputElement.appendChild(li);\n",
              "\n",
              "    const fileDataPromise = new Promise((resolve) => {\n",
              "      const reader = new FileReader();\n",
              "      reader.onload = (e) => {\n",
              "        resolve(e.target.result);\n",
              "      };\n",
              "      reader.readAsArrayBuffer(file);\n",
              "    });\n",
              "    // Wait for the data to be ready.\n",
              "    let fileData = yield {\n",
              "      promise: fileDataPromise,\n",
              "      response: {\n",
              "        action: 'continue',\n",
              "      }\n",
              "    };\n",
              "\n",
              "    // Use a chunked sending to avoid message size limits. See b/62115660.\n",
              "    let position = 0;\n",
              "    do {\n",
              "      const length = Math.min(fileData.byteLength - position, MAX_PAYLOAD_SIZE);\n",
              "      const chunk = new Uint8Array(fileData, position, length);\n",
              "      position += length;\n",
              "\n",
              "      const base64 = btoa(String.fromCharCode.apply(null, chunk));\n",
              "      yield {\n",
              "        response: {\n",
              "          action: 'append',\n",
              "          file: file.name,\n",
              "          data: base64,\n",
              "        },\n",
              "      };\n",
              "\n",
              "      let percentDone = fileData.byteLength === 0 ?\n",
              "          100 :\n",
              "          Math.round((position / fileData.byteLength) * 100);\n",
              "      percent.textContent = `${percentDone}% done`;\n",
              "\n",
              "    } while (position < fileData.byteLength);\n",
              "  }\n",
              "\n",
              "  // All done.\n",
              "  yield {\n",
              "    response: {\n",
              "      action: 'complete',\n",
              "    }\n",
              "  };\n",
              "}\n",
              "\n",
              "scope.google = scope.google || {};\n",
              "scope.google.colab = scope.google.colab || {};\n",
              "scope.google.colab._files = {\n",
              "  _uploadFiles,\n",
              "  _uploadFilesContinue,\n",
              "};\n",
              "})(self);\n",
              "</script> "
            ]
          },
          "metadata": {}
        },
        {
          "output_type": "stream",
          "name": "stdout",
          "text": [
            "Saving AEP_hourly.csv to AEP_hourly.csv\n"
          ]
        }
      ],
      "source": [
        "from google.colab import files\n",
        "uploaded = files.upload()"
      ]
    },
    {
      "cell_type": "markdown",
      "source": [
        "Reads in the file and makes sure that  it can properly and changes the column so that it is a datetime column along with the MegaWatts column."
      ],
      "metadata": {
        "id": "VQH_H0rZe0oo"
      }
    },
    {
      "cell_type": "code",
      "source": [
        "df = pd.read_csv('AEP_hourly.csv')\n",
        "df['Datetime'] = pd.to_datetime(df['Unnamed: 0'])"
      ],
      "metadata": {
        "id": "GEWy0De8eT5_"
      },
      "execution_count": null,
      "outputs": []
    },
    {
      "cell_type": "code",
      "source": [
        "print(df.dtypes)"
      ],
      "metadata": {
        "colab": {
          "base_uri": "https://localhost:8080/"
        },
        "id": "yzbJCAtxeI94",
        "outputId": "d398aacc-042d-4e1d-bbea-51a7c2bce1ba"
      },
      "execution_count": null,
      "outputs": [
        {
          "output_type": "stream",
          "name": "stdout",
          "text": [
            "Unnamed: 0            object\n",
            "AEP_MW                 int64\n",
            "Datetime      datetime64[ns]\n",
            "dtype: object\n"
          ]
        }
      ]
    },
    {
      "cell_type": "markdown",
      "source": [
        "This code is meant to that the clolum is names datetime and the the other is read and read in the other data as well."
      ],
      "metadata": {
        "id": "Pp50Cg6Rf4Ff"
      }
    },
    {
      "cell_type": "code",
      "execution_count": null,
      "metadata": {
        "id": "4wachtA7XDqy",
        "colab": {
          "base_uri": "https://localhost:8080/"
        },
        "outputId": "179e4569-dfbc-4ae6-be88-4e1ebbabbba6"
      },
      "outputs": [
        {
          "output_type": "stream",
          "name": "stdout",
          "text": [
            "          Datetime  AEP_MW\n",
            "0  12/31/2004 1:00   13478\n",
            "1  12/31/2004 2:00   12865\n",
            "2  12/31/2004 3:00   12577\n",
            "3  12/31/2004 4:00   12517\n",
            "4  12/31/2004 5:00   12670\n",
            "<class 'pandas.core.frame.DataFrame'>\n",
            "RangeIndex: 121273 entries, 0 to 121272\n",
            "Data columns (total 2 columns):\n",
            " #   Column    Non-Null Count   Dtype \n",
            "---  ------    --------------   ----- \n",
            " 0   Datetime  121273 non-null  object\n",
            " 1   AEP_MW    121273 non-null  int64 \n",
            "dtypes: int64(1), object(1)\n",
            "memory usage: 1.9+ MB\n",
            "None\n"
          ]
        }
      ],
      "source": [
        "df = pd.read_csv('AEP_hourly.csv', parse_dates = True)\n",
        "df\n",
        "df.rename(columns={'Unnamed: 0': 'Datetime'}, inplace = True)\n",
        "\n",
        "print(df.head())  \\\n",
        "print(df.info())"
      ]
    },
    {
      "cell_type": "code",
      "execution_count": null,
      "metadata": {
        "id": "FgpFCwUFUe-T"
      },
      "outputs": [],
      "source": [
        "#Takes the file and reads reads it,\n",
        "#df = pd.read_csv('AEP_hourly.csv', parse_dates=True)\n",
        "#df.rename(columns={'Unnamed: 0': 'Datetime'}, inplace=True)\n"
      ]
    },
    {
      "cell_type": "code",
      "execution_count": null,
      "metadata": {
        "id": "IcR47rnur8rv"
      },
      "outputs": [],
      "source": [
        "#df"
      ]
    },
    {
      "cell_type": "markdown",
      "source": [
        "The file 'AEP_MW' is the file that needs to downloaded and used to makes sure the data is being drawn. From the column 'AEP_MW'. That colummn is a showing of the recording of hourly energy in each household. This data only contains one feature.\n",
        "\n",
        "We load the file in and then we have to rename the first column. Since there was no name first column it is now being renamed to 'Datetime'. It now will hold the timestamps for the data table. The are real datetime objects. The datetime column is then set to become a index of the dataframe."
      ],
      "metadata": {
        "id": "S3ij9Fo9NOf5"
      }
    },
    {
      "cell_type": "code",
      "execution_count": null,
      "metadata": {
        "id": "rwvaFImecJ4f",
        "colab": {
          "base_uri": "https://localhost:8080/",
          "height": 504
        },
        "outputId": "f07a48f4-b22d-4c85-a495-ac2fd8c23760"
      },
      "outputs": [
        {
          "output_type": "display_data",
          "data": {
            "text/plain": [
              "<Figure size 800x600 with 1 Axes>"
            ],
            "image/png": "[encoded data removed]"
          },
          "metadata": {}
        }
      ],
      "source": [
        "df.rename(columns = {'Unnamed: 0': 'Datetime'}, inplace=True)\n",
        "thePlot =  ['AEP_MW']\n",
        "plot_specs = df[thePlot]\n",
        "date_time = pd.to_datetime(df['Datetime'])\n",
        "plot_specs.index = date_time\n",
        "_ = plot_specs.plot(subplots=True)\n",
        "plt.show()"
      ]
    },
    {
      "cell_type": "markdown",
      "source": [
        "We have a dataset called df, and what we’re trying to do is split it into three parts:\n",
        "\n",
        "A training set (for teaching our model),\n",
        "A validation set (for tuning the model),\n",
        "A test set (for checking how good the model really is).\n",
        "We take the first 70% of the rows to be our training data. This is the data we actually use to teach the model.\n",
        "\n",
        "We grab the next 20% for validation. Validation is like giving the model a mini-test while it’s learning — to see if it's doing well, but without using the real final test yet\n",
        "\n",
        "We grab the last 10% for testing. This is where we finally ask, \"Alright model, did you really learn anything?\" — and we check its performance for real."
      ],
      "metadata": {
        "id": "m9zX-pQ7NUlS"
      }
    },
    {
      "cell_type": "code",
      "execution_count": null,
      "metadata": {
        "id": "6eT8FZQFw2Bk"
      },
      "outputs": [],
      "source": [
        "column_indices = {name:i for i, name in enumerate(df)}\n",
        "\n",
        "n = len(df)\n",
        "train_df = df[0:int(n*0.7)]\n",
        "val_df = df[int(n*0.7):int(n*0.9)]\n",
        "test_df = df[int(n*0.9):]\n",
        "\n",
        "num_features = df.shape[1]\n",
        "#Data was split into training (70%), validation (20%), and testing (10%) subsets for effective model evaluation."
      ]
    },
    {
      "cell_type": "code",
      "execution_count": null,
      "metadata": {
        "id": "NIZxoL7jHk0c"
      },
      "outputs": [],
      "source": [
        "df_2 = df.copy()\n",
        "\n",
        "df_2['timestamp'] = pd.to_datetime(df_2['Datetime'])\n",
        "df_2['Year'] = df_2['timestamp'].dt.year\n",
        "df_2['Month'] = df_2['timestamp'].dt.month\n",
        "\n",
        "scaler_for_data = preprocessing.MinMaxScaler()\n",
        "\n",
        "file_1 = ['AEP_MW']\n",
        "\n",
        "scaler_for_data = preprocessing.MinMaxScaler()\n",
        "scaled_data = scaler_for_data.fit_transform(df_2[['AEP_MW']]) # Only scale 'AEP_MW'\n",
        "scaled_df = df_2.copy()\n",
        "scaled_df['AEP_MW'] = scaled_data[:, 0]"
      ]
    },
    {
      "cell_type": "code",
      "execution_count": null,
      "metadata": {
        "id": "c5lbuRtLhjZI"
      },
      "outputs": [],
      "source": [
        "#print(\"Train data\")\n",
        "#print(train_df.head())\n",
        "\n",
        "#print(\"Validation data\")\n",
        "#print(val_df.head())\n",
        "\n",
        "#print(\"Test data\")\n",
        "#print(test_df.head())"
      ]
    },
    {
      "cell_type": "code",
      "execution_count": null,
      "metadata": {
        "id": "s4Muv3TB-Ud_",
        "colab": {
          "base_uri": "https://localhost:8080/",
          "height": 539
        },
        "outputId": "07e8a76e-cff3-4d47-fb0a-ef9b4eff7234"
      },
      "outputs": [
        {
          "output_type": "execute_result",
          "data": {
            "text/plain": [
              "<Axes: >"
            ]
          },
          "metadata": {},
          "execution_count": 12
        },
        {
          "output_type": "display_data",
          "data": {
            "text/plain": [
              "<Figure size 1200x600 with 1 Axes>"
            ],
            "image/png": "[encoded data removed]"
          },
          "metadata": {}
        }
      ],
      "source": [
        "df.plot(figsize=(12,6))"
      ]
    },
    {
      "cell_type": "markdown",
      "metadata": {
        "id": "iaXzmwJQfMYm"
      },
      "source": [
        "plot the results after 80,000 to get a trending data. Plot that trending data so that we can see the plot."
      ]
    },
    {
      "cell_type": "code",
      "execution_count": null,
      "metadata": {
        "id": "mGBFk7V0WCPq"
      },
      "outputs": [],
      "source": [
        "#Reshaping the data\n",
        "\n",
        "#train_data = train_df['AEP_MW'].values.reshape(-1,1)\n",
        "#val_data = val_df['AEP_MW'].values.reshape(-1,1)\n",
        "#test_data = test_df['AEP_MW'].values.reshape(-1,1)\n",
        "\n",
        "#scaler_for_data = MinMaxScaler()\n",
        "\n",
        "#scaler_for_data.fit(train_df)\n",
        "\n",
        " #Data was scaled using MinMaxScaler to normalize values between 0 and 1,\n",
        "  #speeding up model improving accuracy.\n",
        "\n",
        "#xscaled x - x min/x max -x min\n",
        "#used to normalize the data"
      ]
    },
    {
      "cell_type": "code",
      "execution_count": null,
      "metadata": {
        "id": "qFz8Vq_ek9qT"
      },
      "outputs": [],
      "source": [
        "train_scaled_df = scaled_df[0:int(n*0.7)].drop('Datetime', axis = 1)\n",
        "\n",
        "val_scaled_df = scaled_df[int(n*0.7):int(n*0.9)].drop('Datetime', axis = 1)\n",
        "\n",
        "test_scaled_df = scaled_df[int(n*0.9):].drop('Datetime', axis = 1)"
      ]
    },
    {
      "cell_type": "code",
      "execution_count": null,
      "metadata": {
        "id": "l3fnHfBxcc8v"
      },
      "outputs": [],
      "source": [
        "y_train = train_scaled_df['AEP_MW'].values\n",
        "y_val = val_scaled_df['AEP_MW'].values\n",
        "y_test = test_scaled_df['AEP_MW'].values\n",
        "\n",
        "\n",
        "X_train = train_scaled_df.drop('AEP_MW', axis=1)\n",
        "X_val = val_scaled_df.drop('AEP_MW', axis=1)\n",
        "X_test = test_scaled_df.drop('AEP_MW', axis=1)\n",
        "\n",
        "\n",
        "y_train = train_scaled_df['AEP_MW'].values\n",
        "y_val = val_scaled_df['AEP_MW'].values\n",
        "y_test = test_scaled_df['AEP_MW'].values"
      ]
    },
    {
      "cell_type": "code",
      "execution_count": null,
      "metadata": {
        "id": "PKJMi510ggQv",
        "colab": {
          "base_uri": "https://localhost:8080/",
          "height": 424
        },
        "outputId": "fa5acf88-4f0e-44ce-883e-b005a266eb92"
      },
      "outputs": [
        {
          "output_type": "execute_result",
          "data": {
            "text/plain": [
              "         AEP_MW           timestamp  Year  Month\n",
              "0      0.241839 2004-12-31 01:00:00  2004     12\n",
              "1      0.203798 2004-12-31 02:00:00  2004     12\n",
              "2      0.185925 2004-12-31 03:00:00  2004     12\n",
              "3      0.182202 2004-12-31 04:00:00  2004     12\n",
              "4      0.191697 2004-12-31 05:00:00  2004     12\n",
              "...         ...                 ...   ...    ...\n",
              "84886  0.442410 2014-07-26 19:00:00  2014      7\n",
              "84887  0.414422 2014-07-26 20:00:00  2014      7\n",
              "84888  0.397977 2014-07-26 21:00:00  2014      7\n",
              "84889  0.388668 2014-07-26 22:00:00  2014      7\n",
              "84890  0.341318 2014-07-26 23:00:00  2014      7\n",
              "\n",
              "[84891 rows x 4 columns]"
            ],
            "text/html": [
              "\n",
              "  <div id=\"df-3e24f22c-93d2-4909-a9d6-5c709046023a\" class=\"colab-df-container\">\n",
              "    <div>\n",
              "<style scoped>\n",
              "    .dataframe tbody tr th:only-of-type {\n",
              "        vertical-align: middle;\n",
              "    }\n",
              "\n",
              "    .dataframe tbody tr th {\n",
              "        vertical-align: top;\n",
              "    }\n",
              "\n",
              "    .dataframe thead th {\n",
              "        text-align: right;\n",
              "    }\n",
              "</style>\n",
              "<table border=\"1\" class=\"dataframe\">\n",
              "  <thead>\n",
              "    <tr style=\"text-align: right;\">\n",
              "      <th></th>\n",
              "      <th>AEP_MW</th>\n",
              "      <th>timestamp</th>\n",
              "      <th>Year</th>\n",
              "      <th>Month</th>\n",
              "    </tr>\n",
              "  </thead>\n",
              "  <tbody>\n",
              "    <tr>\n",
              "      <th>0</th>\n",
              "      <td>0.241839</td>\n",
              "      <td>2004-12-31 01:00:00</td>\n",
              "      <td>2004</td>\n",
              "      <td>12</td>\n",
              "    </tr>\n",
              "    <tr>\n",
              "      <th>1</th>\n",
              "      <td>0.203798</td>\n",
              "      <td>2004-12-31 02:00:00</td>\n",
              "      <td>2004</td>\n",
              "      <td>12</td>\n",
              "    </tr>\n",
              "    <tr>\n",
              "      <th>2</th>\n",
              "      <td>0.185925</td>\n",
              "      <td>2004-12-31 03:00:00</td>\n",
              "      <td>2004</td>\n",
              "      <td>12</td>\n",
              "    </tr>\n",
              "    <tr>\n",
              "      <th>3</th>\n",
              "      <td>0.182202</td>\n",
              "      <td>2004-12-31 04:00:00</td>\n",
              "      <td>2004</td>\n",
              "      <td>12</td>\n",
              "    </tr>\n",
              "    <tr>\n",
              "      <th>4</th>\n",
              "      <td>0.191697</td>\n",
              "      <td>2004-12-31 05:00:00</td>\n",
              "      <td>2004</td>\n",
              "      <td>12</td>\n",
              "    </tr>\n",
              "    <tr>\n",
              "      <th>...</th>\n",
              "      <td>...</td>\n",
              "      <td>...</td>\n",
              "      <td>...</td>\n",
              "      <td>...</td>\n",
              "    </tr>\n",
              "    <tr>\n",
              "      <th>84886</th>\n",
              "      <td>0.442410</td>\n",
              "      <td>2014-07-26 19:00:00</td>\n",
              "      <td>2014</td>\n",
              "      <td>7</td>\n",
              "    </tr>\n",
              "    <tr>\n",
              "      <th>84887</th>\n",
              "      <td>0.414422</td>\n",
              "      <td>2014-07-26 20:00:00</td>\n",
              "      <td>2014</td>\n",
              "      <td>7</td>\n",
              "    </tr>\n",
              "    <tr>\n",
              "      <th>84888</th>\n",
              "      <td>0.397977</td>\n",
              "      <td>2014-07-26 21:00:00</td>\n",
              "      <td>2014</td>\n",
              "      <td>7</td>\n",
              "    </tr>\n",
              "    <tr>\n",
              "      <th>84889</th>\n",
              "      <td>0.388668</td>\n",
              "      <td>2014-07-26 22:00:00</td>\n",
              "      <td>2014</td>\n",
              "      <td>7</td>\n",
              "    </tr>\n",
              "    <tr>\n",
              "      <th>84890</th>\n",
              "      <td>0.341318</td>\n",
              "      <td>2014-07-26 23:00:00</td>\n",
              "      <td>2014</td>\n",
              "      <td>7</td>\n",
              "    </tr>\n",
              "  </tbody>\n",
              "</table>\n",
              "<p>84891 rows × 4 columns</p>\n",
              "</div>\n",
              "    <div class=\"colab-df-buttons\">\n",
              "\n",
              "  <div class=\"colab-df-container\">\n",
              "    <button class=\"colab-df-convert\" onclick=\"convertToInteractive('df-3e24f22c-93d2-4909-a9d6-5c709046023a')\"\n",
              "            title=\"Convert this dataframe to an interactive table.\"\n",
              "            style=\"display:none;\">\n",
              "\n",
              "  <svg xmlns=\"http://www.w3.org/2000/svg\" height=\"24px\" viewBox=\"0 -960 960 960\">\n",
              "    <path d=\"M120-120v-720h720v720H120Zm60-500h600v-160H180v160Zm220 220h160v-160H400v160Zm0 220h160v-160H400v160ZM180-400h160v-160H180v160Zm440 0h160v-160H620v160ZM180-180h160v-160H180v160Zm440 0h160v-160H620v160Z\"/>\n",
              "  </svg>\n",
              "    </button>\n",
              "\n",
              "  <style>\n",
              "    .colab-df-container {\n",
              "      display:flex;\n",
              "      gap: 12px;\n",
              "    }\n",
              "\n",
              "    .colab-df-convert {\n",
              "      background-color: #E8F0FE;\n",
              "      border: none;\n",
              "      border-radius: 50%;\n",
              "      cursor: pointer;\n",
              "      display: none;\n",
              "      fill: #1967D2;\n",
              "      height: 32px;\n",
              "      padding: 0 0 0 0;\n",
              "      width: 32px;\n",
              "    }\n",
              "\n",
              "    .colab-df-convert:hover {\n",
              "      background-color: #E2EBFA;\n",
              "      box-shadow: 0px 1px 2px rgba(60, 64, 67, 0.3), 0px 1px 3px 1px rgba(60, 64, 67, 0.15);\n",
              "      fill: #174EA6;\n",
              "    }\n",
              "\n",
              "    .colab-df-buttons div {\n",
              "      margin-bottom: 4px;\n",
              "    }\n",
              "\n",
              "    [theme=dark] .colab-df-convert {\n",
              "      background-color: #3B4455;\n",
              "      fill: #D2E3FC;\n",
              "    }\n",
              "\n",
              "    [theme=dark] .colab-df-convert:hover {\n",
              "      background-color: #434B5C;\n",
              "      box-shadow: 0px 1px 3px 1px rgba(0, 0, 0, 0.15);\n",
              "      filter: drop-shadow(0px 1px 2px rgba(0, 0, 0, 0.3));\n",
              "      fill: #FFFFFF;\n",
              "    }\n",
              "  </style>\n",
              "\n",
              "    <script>\n",
              "      const buttonEl =\n",
              "        document.querySelector('#df-3e24f22c-93d2-4909-a9d6-5c709046023a button.colab-df-convert');\n",
              "      buttonEl.style.display =\n",
              "        google.colab.kernel.accessAllowed ? 'block' : 'none';\n",
              "\n",
              "      async function convertToInteractive(key) {\n",
              "        const element = document.querySelector('#df-3e24f22c-93d2-4909-a9d6-5c709046023a');\n",
              "        const dataTable =\n",
              "          await google.colab.kernel.invokeFunction('convertToInteractive',\n",
              "                                                    [key], {});\n",
              "        if (!dataTable) return;\n",
              "\n",
              "        const docLinkHtml = 'Like what you see? Visit the ' +\n",
              "          '<a target=\"_blank\" href=https://colab.research.google.com/notebooks/data_table.ipynb>data table notebook</a>'\n",
              "          + ' to learn more about interactive tables.';\n",
              "        element.innerHTML = '';\n",
              "        dataTable['output_type'] = 'display_data';\n",
              "        await google.colab.output.renderOutput(dataTable, element);\n",
              "        const docLink = document.createElement('div');\n",
              "        docLink.innerHTML = docLinkHtml;\n",
              "        element.appendChild(docLink);\n",
              "      }\n",
              "    </script>\n",
              "  </div>\n",
              "\n",
              "\n",
              "    <div id=\"df-e2c2c6bd-0fc2-4b5e-9421-5c794166f016\">\n",
              "      <button class=\"colab-df-quickchart\" onclick=\"quickchart('df-e2c2c6bd-0fc2-4b5e-9421-5c794166f016')\"\n",
              "                title=\"Suggest charts\"\n",
              "                style=\"display:none;\">\n",
              "\n",
              "<svg xmlns=\"http://www.w3.org/2000/svg\" height=\"24px\"viewBox=\"0 0 24 24\"\n",
              "     width=\"24px\">\n",
              "    <g>\n",
              "        <path d=\"M19 3H5c-1.1 0-2 .9-2 2v14c0 1.1.9 2 2 2h14c1.1 0 2-.9 2-2V5c0-1.1-.9-2-2-2zM9 17H7v-7h2v7zm4 0h-2V7h2v10zm4 0h-2v-4h2v4z\"/>\n",
              "    </g>\n",
              "</svg>\n",
              "      </button>\n",
              "\n",
              "<style>\n",
              "  .colab-df-quickchart {\n",
              "      --bg-color: #E8F0FE;\n",
              "      --fill-color: #1967D2;\n",
              "      --hover-bg-color: #E2EBFA;\n",
              "      --hover-fill-color: #174EA6;\n",
              "      --disabled-fill-color: #AAA;\n",
              "      --disabled-bg-color: #DDD;\n",
              "  }\n",
              "\n",
              "  [theme=dark] .colab-df-quickchart {\n",
              "      --bg-color: #3B4455;\n",
              "      --fill-color: #D2E3FC;\n",
              "      --hover-bg-color: #434B5C;\n",
              "      --hover-fill-color: #FFFFFF;\n",
              "      --disabled-bg-color: #3B4455;\n",
              "      --disabled-fill-color: #666;\n",
              "  }\n",
              "\n",
              "  .colab-df-quickchart {\n",
              "    background-color: var(--bg-color);\n",
              "    border: none;\n",
              "    border-radius: 50%;\n",
              "    cursor: pointer;\n",
              "    display: none;\n",
              "    fill: var(--fill-color);\n",
              "    height: 32px;\n",
              "    padding: 0;\n",
              "    width: 32px;\n",
              "  }\n",
              "\n",
              "  .colab-df-quickchart:hover {\n",
              "    background-color: var(--hover-bg-color);\n",
              "    box-shadow: 0 1px 2px rgba(60, 64, 67, 0.3), 0 1px 3px 1px rgba(60, 64, 67, 0.15);\n",
              "    fill: var(--button-hover-fill-color);\n",
              "  }\n",
              "\n",
              "  .colab-df-quickchart-complete:disabled,\n",
              "  .colab-df-quickchart-complete:disabled:hover {\n",
              "    background-color: var(--disabled-bg-color);\n",
              "    fill: var(--disabled-fill-color);\n",
              "    box-shadow: none;\n",
              "  }\n",
              "\n",
              "  .colab-df-spinner {\n",
              "    border: 2px solid var(--fill-color);\n",
              "    border-color: transparent;\n",
              "    border-bottom-color: var(--fill-color);\n",
              "    animation:\n",
              "      spin 1s steps(1) infinite;\n",
              "  }\n",
              "\n",
              "  @keyframes spin {\n",
              "    0% {\n",
              "      border-color: transparent;\n",
              "      border-bottom-color: var(--fill-color);\n",
              "      border-left-color: var(--fill-color);\n",
              "    }\n",
              "    20% {\n",
              "      border-color: transparent;\n",
              "      border-left-color: var(--fill-color);\n",
              "      border-top-color: var(--fill-color);\n",
              "    }\n",
              "    30% {\n",
              "      border-color: transparent;\n",
              "      border-left-color: var(--fill-color);\n",
              "      border-top-color: var(--fill-color);\n",
              "      border-right-color: var(--fill-color);\n",
              "    }\n",
              "    40% {\n",
              "      border-color: transparent;\n",
              "      border-right-color: var(--fill-color);\n",
              "      border-top-color: var(--fill-color);\n",
              "    }\n",
              "    60% {\n",
              "      border-color: transparent;\n",
              "      border-right-color: var(--fill-color);\n",
              "    }\n",
              "    80% {\n",
              "      border-color: transparent;\n",
              "      border-right-color: var(--fill-color);\n",
              "      border-bottom-color: var(--fill-color);\n",
              "    }\n",
              "    90% {\n",
              "      border-color: transparent;\n",
              "      border-bottom-color: var(--fill-color);\n",
              "    }\n",
              "  }\n",
              "</style>\n",
              "\n",
              "      <script>\n",
              "        async function quickchart(key) {\n",
              "          const quickchartButtonEl =\n",
              "            document.querySelector('#' + key + ' button');\n",
              "          quickchartButtonEl.disabled = true;  // To prevent multiple clicks.\n",
              "          quickchartButtonEl.classList.add('colab-df-spinner');\n",
              "          try {\n",
              "            const charts = await google.colab.kernel.invokeFunction(\n",
              "                'suggestCharts', [key], {});\n",
              "          } catch (error) {\n",
              "            console.error('Error during call to suggestCharts:', error);\n",
              "          }\n",
              "          quickchartButtonEl.classList.remove('colab-df-spinner');\n",
              "          quickchartButtonEl.classList.add('colab-df-quickchart-complete');\n",
              "        }\n",
              "        (() => {\n",
              "          let quickchartButtonEl =\n",
              "            document.querySelector('#df-e2c2c6bd-0fc2-4b5e-9421-5c794166f016 button');\n",
              "          quickchartButtonEl.style.display =\n",
              "            google.colab.kernel.accessAllowed ? 'block' : 'none';\n",
              "        })();\n",
              "      </script>\n",
              "    </div>\n",
              "\n",
              "  <div id=\"id_92765c04-1812-459f-9225-c376545fcc44\">\n",
              "    <style>\n",
              "      .colab-df-generate {\n",
              "        background-color: #E8F0FE;\n",
              "        border: none;\n",
              "        border-radius: 50%;\n",
              "        cursor: pointer;\n",
              "        display: none;\n",
              "        fill: #1967D2;\n",
              "        height: 32px;\n",
              "        padding: 0 0 0 0;\n",
              "        width: 32px;\n",
              "      }\n",
              "\n",
              "      .colab-df-generate:hover {\n",
              "        background-color: #E2EBFA;\n",
              "        box-shadow: 0px 1px 2px rgba(60, 64, 67, 0.3), 0px 1px 3px 1px rgba(60, 64, 67, 0.15);\n",
              "        fill: #174EA6;\n",
              "      }\n",
              "\n",
              "      [theme=dark] .colab-df-generate {\n",
              "        background-color: #3B4455;\n",
              "        fill: #D2E3FC;\n",
              "      }\n",
              "\n",
              "      [theme=dark] .colab-df-generate:hover {\n",
              "        background-color: #434B5C;\n",
              "        box-shadow: 0px 1px 3px 1px rgba(0, 0, 0, 0.15);\n",
              "        filter: drop-shadow(0px 1px 2px rgba(0, 0, 0, 0.3));\n",
              "        fill: #FFFFFF;\n",
              "      }\n",
              "    </style>\n",
              "    <button class=\"colab-df-generate\" onclick=\"generateWithVariable('train_scaled_df')\"\n",
              "            title=\"Generate code using this dataframe.\"\n",
              "            style=\"display:none;\">\n",
              "\n",
              "  <svg xmlns=\"http://www.w3.org/2000/svg\" height=\"24px\"viewBox=\"0 0 24 24\"\n",
              "       width=\"24px\">\n",
              "    <path d=\"M7,19H8.4L18.45,9,17,7.55,7,17.6ZM5,21V16.75L18.45,3.32a2,2,0,0,1,2.83,0l1.4,1.43a1.91,1.91,0,0,1,.58,1.4,1.91,1.91,0,0,1-.58,1.4L9.25,21ZM18.45,9,17,7.55Zm-12,3A5.31,5.31,0,0,0,4.9,8.1,5.31,5.31,0,0,0,1,6.5,5.31,5.31,0,0,0,4.9,4.9,5.31,5.31,0,0,0,6.5,1,5.31,5.31,0,0,0,8.1,4.9,5.31,5.31,0,0,0,12,6.5,5.46,5.46,0,0,0,6.5,12Z\"/>\n",
              "  </svg>\n",
              "    </button>\n",
              "    <script>\n",
              "      (() => {\n",
              "      const buttonEl =\n",
              "        document.querySelector('#id_92765c04-1812-459f-9225-c376545fcc44 button.colab-df-generate');\n",
              "      buttonEl.style.display =\n",
              "        google.colab.kernel.accessAllowed ? 'block' : 'none';\n",
              "\n",
              "      buttonEl.onclick = () => {\n",
              "        google.colab.notebook.generateWithVariable('train_scaled_df');\n",
              "      }\n",
              "      })();\n",
              "    </script>\n",
              "  </div>\n",
              "\n",
              "    </div>\n",
              "  </div>\n"
            ],
            "application/vnd.google.colaboratory.intrinsic+json": {
              "type": "dataframe",
              "variable_name": "train_scaled_df",
              "summary": "{\n  \"name\": \"train_scaled_df\",\n  \"rows\": 84891,\n  \"fields\": [\n    {\n      \"column\": \"AEP_MW\",\n      \"properties\": {\n        \"dtype\": \"number\",\n        \"std\": 0.1587607125179558,\n        \"min\": 0.00546108973563364,\n        \"max\": 0.9999999999999999,\n        \"num_unique_values\": 12073,\n        \"samples\": [\n          0.14800794340325185,\n          0.3251210127839146,\n          0.1727069628894129\n        ],\n        \"semantic_type\": \"\",\n        \"description\": \"\"\n      }\n    },\n    {\n      \"column\": \"timestamp\",\n      \"properties\": {\n        \"dtype\": \"date\",\n        \"min\": \"2004-10-01 01:00:00\",\n        \"max\": \"2015-01-01 00:00:00\",\n        \"num_unique_values\": 84890,\n        \"samples\": [\n          \"2014-12-17 11:00:00\",\n          \"2006-09-14 02:00:00\",\n          \"2007-02-22 17:00:00\"\n        ],\n        \"semantic_type\": \"\",\n        \"description\": \"\"\n      }\n    },\n    {\n      \"column\": \"Year\",\n      \"properties\": {\n        \"dtype\": \"int32\",\n        \"num_unique_values\": 12,\n        \"samples\": [\n          2014,\n          2013,\n          2004\n        ],\n        \"semantic_type\": \"\",\n        \"description\": \"\"\n      }\n    },\n    {\n      \"column\": \"Month\",\n      \"properties\": {\n        \"dtype\": \"int32\",\n        \"num_unique_values\": 12,\n        \"samples\": [\n          3,\n          4,\n          12\n        ],\n        \"semantic_type\": \"\",\n        \"description\": \"\"\n      }\n    }\n  ]\n}"
            }
          },
          "metadata": {},
          "execution_count": 16
        }
      ],
      "source": [
        "train_scaled_df"
      ]
    },
    {
      "cell_type": "code",
      "execution_count": null,
      "metadata": {
        "id": "qjDll_Djg5ks",
        "colab": {
          "base_uri": "https://localhost:8080/"
        },
        "outputId": "69452b00-3bc0-4ca8-d195-e4c18305335f"
      },
      "outputs": [
        {
          "output_type": "execute_result",
          "data": {
            "text/plain": [
              "(84891, 4)"
            ]
          },
          "metadata": {},
          "execution_count": 17
        }
      ],
      "source": [
        "train_scaled_df.shape"
      ]
    },
    {
      "cell_type": "code",
      "execution_count": null,
      "metadata": {
        "id": "PHxrHa-e1ZEJ"
      },
      "outputs": [],
      "source": [
        "\n",
        "#Input Window=data[t,t+input_width]\n",
        "#Label Window=data[t+input_width,t+input_width+label_width]\n",
        "\n",
        "class WindowGenerator():\n",
        "    def __init__(self, input_width, label_width, shift,\n",
        "                 train_df=None, val_df=None, test_df=None,\n",
        "                 label_columns=None):\n",
        "        self.train_df = train_df\n",
        "        self.val_df = val_df\n",
        "        self.test_df = test_df\n",
        "        self.label_columns = label_columns\n",
        "        if label_columns is not None:\n",
        "            self.label_columns_indices = {name: i for i, name in enumerate(label_columns)}\n",
        "        self.column_indices = {name: i for i, name in enumerate(train_df.columns)}\n",
        "\n",
        "\n",
        "        self.input_width = input_width\n",
        "        self.label_width = label_width\n",
        "        self.shift = shift\n",
        "\n",
        "        self.total_window_size = input_width + shift\n",
        "        self.input_slice = slice(0, input_width)\n",
        "        self.input_indices = np.arange(self.total_window_size)[self.input_slice]\n",
        "\n",
        "        self.label_start = self.total_window_size - self.label_width\n",
        "        self.labels_slice = slice(self.label_start, None)\n",
        "        self.label_indices = np.arange(self.total_window_size)[self.labels_slice]\n",
        "\n",
        "    def __repr__(self):\n",
        "        return '\\n'.join([\n",
        "            f'Total window size: {self.total_window_size}',\n",
        "            f'Input indices: {self.input_indices}',\n",
        "            f'Label indices: {self.label_indices}',\n",
        "            f'Label column name(s): {self.label_columns}'])\n",
        "\n",
        "    def split_window(self, features):\n",
        "        inputs = features[:, self.input_slice, :]\n",
        "        labels = features[:, self.labels_slice, :]\n",
        "        if self.label_columns is not None:\n",
        "            labels = tf.stack([labels[:, :, self.column_indices[name]] for name in self.label_columns],\n",
        "                              axis=-1)\n",
        "\n",
        "\n",
        "        inputs.set_shape([None, self.input_width, None])\n",
        "        labels.set_shape([None, self.label_width, None])\n",
        "\n",
        "        return inputs, labels\n",
        "\n",
        "    def plot(self, model=None, plot_col='AEP_MW', max_subplots=3):\n",
        "        inputs, labels = self.example\n",
        "        plt.figure(figsize=(12, 8))\n",
        "        plot_col_index = self.column_indices[plot_col]\n",
        "        max_n = min(max_subplots, len(inputs))\n",
        "\n",
        "        for n in range(max_n):\n",
        "            plt.subplot(max_n, 1, n + 1)\n",
        "            plt.ylabel(f'{plot_col} [normal]')\n",
        "            plt.plot(self.input_indices, inputs[n, :, plot_col_index],\n",
        "                     label='Inputs', marker='.', zorder=-10)\n",
        "\n",
        "            if self.label_columns:\n",
        "                label_col_index = self.label_columns_indices.get(plot_col, None)\n",
        "            else:\n",
        "                label_col_index = plot_col_index\n",
        "\n",
        "            if label_col_index is None:\n",
        "                continue\n",
        "\n",
        "            plt.scatter(self.label_indices, labels[n, :, label_col_index],\n",
        "                        edgecolors='k', label='Labels', c='#2ca02c', s=64)\n",
        "\n",
        "            if model is not None:\n",
        "                predictions = model(inputs)\n",
        "                plt.scatter(self.label_indices, predictions[n, :, label_col_index],\n",
        "                            marker='X', edgecolors='k', label='Predictions',\n",
        "                            c='#ff7f0e', s=64)\n",
        "\n",
        "            if n == 0:\n",
        "                plt.legend()\n",
        "\n",
        "        plt.xlabel('Time [h]')\n",
        "\n",
        "    def make_dataset(self, data):\n",
        "            if 'timestamp' in data.columns:\n",
        "              data['timestamp'] = data['timestamp'].astype('int64') // 10**9\n",
        "\n",
        "            data = np.array(data, dtype=np.float32)\n",
        "            ds = tf.keras.preprocessing.timeseries_dataset_from_array(\n",
        "              data=data,\n",
        "              targets=None,\n",
        "              sequence_length=self.total_window_size,\n",
        "              sequence_stride=1,\n",
        "              shuffle=True,\n",
        "              batch_size=32,\n",
        "            )\n",
        "            ds = ds.map(self.split_window)\n",
        "            return ds\n",
        "\n",
        "\n",
        "    @property\n",
        "    def example(self):\n",
        "        \"\"\"Get and cache an example batch of `inputs, labels` for plotting.\"\"\"\n",
        "        result = next(iter(self.train))\n",
        "        self._example = result\n",
        "        return result\n",
        "\n",
        "    @property\n",
        "    def train(self):\n",
        "        return self.make_dataset(self.train_df)\n",
        "\n",
        "    @property\n",
        "    def val(self):\n",
        "        return self.make_dataset(self.val_df)\n",
        "\n",
        "    @property\n",
        "    def test(self):\n",
        "        return self.make_dataset(self.test_df)\n",
        "\n",
        "    @property\n",
        "    def example(self):\n",
        "      LT_my_result = getattr(self, '_example', None)\n",
        "      if result is None:\n",
        "\n",
        "        LT_my_result = next(iter(self.train))\n",
        "        self._example = LT_my_result\n",
        "      return LT_my_result\n"
      ]
    },
    {
      "cell_type": "code",
      "execution_count": null,
      "metadata": {
        "id": "qrc-bfaFf_Im",
        "colab": {
          "base_uri": "https://localhost:8080/"
        },
        "outputId": "1fb0c169-c211-45e1-e482-1405eba3e27f"
      },
      "outputs": [
        {
          "output_type": "stream",
          "name": "stdout",
          "text": [
            "Total window size: 25\n",
            "Input indices: [ 0  1  2  3  4  5  6  7  8  9 10 11 12 13 14 15 16 17 18 19 20 21 22 23]\n",
            "Label indices: [24]\n",
            "Label column name(s): ['AEP_MW']\n"
          ]
        }
      ],
      "source": [
        "window_size=24\n",
        "single_step_window = WindowGenerator(\n",
        "    input_width=window_size,\n",
        "    label_width=1,\n",
        "    shift=1,\n",
        "    train_df=train_scaled_df,\n",
        "    val_df=val_scaled_df,\n",
        "    test_df=test_scaled_df,\n",
        "    label_columns=['AEP_MW']\n",
        ")\n",
        "\n",
        "print(single_step_window)"
      ]
    },
    {
      "cell_type": "code",
      "execution_count": null,
      "metadata": {
        "id": "dpsMxze9iS-3",
        "colab": {
          "base_uri": "https://localhost:8080/"
        },
        "outputId": "bb5e7d02-506b-4ccb-f007-40cfaf1bf2f2"
      },
      "outputs": [
        {
          "output_type": "stream",
          "name": "stdout",
          "text": [
            "Training set length: 84891\n",
            "Validation set length: 24254\n",
            "Test set length: 12128\n"
          ]
        }
      ],
      "source": [
        "print(f\"Training set length: {len(train_df)}\")\n",
        "print(f\"Validation set length: {len(val_df)}\")\n",
        "print(f\"Test set length: {len(test_df)}\")"
      ]
    },
    {
      "cell_type": "code",
      "execution_count": null,
      "metadata": {
        "id": "MNpbaYkpoOAp",
        "colab": {
          "base_uri": "https://localhost:8080/"
        },
        "outputId": "2bd41689-a3fd-4e05-c4bb-200435e2ffbf"
      },
      "outputs": [
        {
          "output_type": "stream",
          "name": "stdout",
          "text": [
            "Inputs shape: (32, 24, 4)\n",
            "Labels shape: (32, 1, 1)\n"
          ]
        }
      ],
      "source": [
        "# Inspect a batch of inputs and labels\n",
        "for inputs, labels in single_step_window.train.take(1):\n",
        "    print(\"Inputs shape:\", inputs.shape)  # Should be (batch_size, input_width, num_features)\n",
        "    print(\"Labels shape:\", labels.shape)"
      ]
    },
    {
      "cell_type": "markdown",
      "metadata": {
        "id": "IM6XZJ4HrXiG"
      },
      "source": [
        "[link text](https://)"
      ]
    },
    {
      "cell_type": "markdown",
      "metadata": {
        "id": "uooTsBp_hIT_"
      },
      "source": [
        " For each window, a sequence of 7 points was created as input (X), and the following point was used as the label (Y)."
      ]
    },
    {
      "cell_type": "code",
      "execution_count": null,
      "metadata": {
        "id": "hyNFFOgx8EFb"
      },
      "outputs": [],
      "source": [
        "\n",
        "from tensorflow.keras.layers import LSTM, Dense\n",
        "from tensorflow.keras.layers import *\n",
        "from tensorflow.keras.callbacks import ModelCheckpoint\n",
        "from tensorflow.keras.optimizers import Adam"
      ]
    },
    {
      "cell_type": "code",
      "execution_count": null,
      "metadata": {
        "id": "IlBBP30r9Z6r",
        "colab": {
          "base_uri": "https://localhost:8080/"
        },
        "outputId": "474a7d5c-d2b4-4dd7-c94e-85639ef83248"
      },
      "outputs": [
        {
          "output_type": "stream",
          "name": "stderr",
          "text": [
            "/usr/local/lib/python3.11/dist-packages/keras/src/layers/rnn/rnn.py:200: UserWarning: Do not pass an `input_shape`/`input_dim` argument to a layer. When using Sequential models, prefer using an `Input(shape)` object as the first layer in the model instead.\n",
            "  super().__init__(**kwargs)\n"
          ]
        },
        {
          "output_type": "stream",
          "name": "stdout",
          "text": [
            "Epoch 1/20\n",
            "\u001b[1m2653/2653\u001b[0m \u001b[32m━━━━━━━━━━━━━━━━━━━━\u001b[0m\u001b[37m\u001b[0m \u001b[1m314s\u001b[0m 117ms/step - loss: 0.0743 - mae: 0.1968 - val_loss: 0.0268 - val_mae: 0.1343\n",
            "Epoch 2/20\n",
            "\u001b[1m2653/2653\u001b[0m \u001b[32m━━━━━━━━━━━━━━━━━━━━\u001b[0m\u001b[37m\u001b[0m \u001b[1m297s\u001b[0m 112ms/step - loss: 0.0260 - mae: 0.1290 - val_loss: 0.0284 - val_mae: 0.1406\n",
            "Epoch 3/20\n",
            "\u001b[1m2653/2653\u001b[0m \u001b[32m━━━━━━━━━━━━━━━━━━━━\u001b[0m\u001b[37m\u001b[0m \u001b[1m338s\u001b[0m 118ms/step - loss: 0.0257 - mae: 0.1283 - val_loss: 0.0264 - val_mae: 0.1316\n",
            "Epoch 4/20\n",
            "\u001b[1m2653/2653\u001b[0m \u001b[32m━━━━━━━━━━━━━━━━━━━━\u001b[0m\u001b[37m\u001b[0m \u001b[1m313s\u001b[0m 118ms/step - loss: 0.0255 - mae: 0.1278 - val_loss: 0.0275 - val_mae: 0.1372\n",
            "Epoch 5/20\n",
            "\u001b[1m2653/2653\u001b[0m \u001b[32m━━━━━━━━━━━━━━━━━━━━\u001b[0m\u001b[37m\u001b[0m \u001b[1m322s\u001b[0m 118ms/step - loss: 0.0255 - mae: 0.1277 - val_loss: 0.0278 - val_mae: 0.1383\n",
            "Epoch 6/20\n",
            "\u001b[1m2653/2653\u001b[0m \u001b[32m━━━━━━━━━━━━━━━━━━━━\u001b[0m\u001b[37m\u001b[0m \u001b[1m313s\u001b[0m 118ms/step - loss: 0.0253 - mae: 0.1273 - val_loss: 0.0280 - val_mae: 0.1392\n",
            "Epoch 7/20\n",
            "\u001b[1m2653/2653\u001b[0m \u001b[32m━━━━━━━━━━━━━━━━━━━━\u001b[0m\u001b[37m\u001b[0m \u001b[1m299s\u001b[0m 110ms/step - loss: 0.0253 - mae: 0.1272 - val_loss: 0.0286 - val_mae: 0.1410\n",
            "Epoch 8/20\n",
            "\u001b[1m2653/2653\u001b[0m \u001b[32m━━━━━━━━━━━━━━━━━━━━\u001b[0m\u001b[37m\u001b[0m \u001b[1m292s\u001b[0m 110ms/step - loss: 0.0252 - mae: 0.1272 - val_loss: 0.0286 - val_mae: 0.1410\n",
            "Epoch 9/20\n",
            "\u001b[1m2653/2653\u001b[0m \u001b[32m━━━━━━━━━━━━━━━━━━━━\u001b[0m\u001b[37m\u001b[0m \u001b[1m324s\u001b[0m 111ms/step - loss: 0.0252 - mae: 0.1272 - val_loss: 0.0284 - val_mae: 0.1404\n",
            "Epoch 10/20\n",
            "\u001b[1m2653/2653\u001b[0m \u001b[32m━━━━━━━━━━━━━━━━━━━━\u001b[0m\u001b[37m\u001b[0m \u001b[1m295s\u001b[0m 111ms/step - loss: 0.0253 - mae: 0.1272 - val_loss: 0.0285 - val_mae: 0.1409\n",
            "Epoch 11/20\n",
            "\u001b[1m2653/2653\u001b[0m \u001b[32m━━━━━━━━━━━━━━━━━━━━\u001b[0m\u001b[37m\u001b[0m \u001b[1m296s\u001b[0m 112ms/step - loss: 0.0252 - mae: 0.1272 - val_loss: 0.0286 - val_mae: 0.1410\n",
            "Epoch 12/20\n",
            "\u001b[1m2653/2653\u001b[0m \u001b[32m━━━━━━━━━━━━━━━━━━━━\u001b[0m\u001b[37m\u001b[0m \u001b[1m334s\u001b[0m 116ms/step - loss: 0.0252 - mae: 0.1272 - val_loss: 0.0285 - val_mae: 0.1407\n",
            "Epoch 13/20\n",
            "\u001b[1m2653/2653\u001b[0m \u001b[32m━━━━━━━━━━━━━━━━━━━━\u001b[0m\u001b[37m\u001b[0m \u001b[1m302s\u001b[0m 109ms/step - loss: 0.0253 - mae: 0.1272 - val_loss: 0.0286 - val_mae: 0.1410\n",
            "Epoch 14/20\n",
            "\u001b[1m2653/2653\u001b[0m \u001b[32m━━━━━━━━━━━━━━━━━━━━\u001b[0m\u001b[37m\u001b[0m \u001b[1m322s\u001b[0m 109ms/step - loss: 0.0253 - mae: 0.1272 - val_loss: 0.0283 - val_mae: 0.1403\n",
            "Epoch 15/20\n",
            "\u001b[1m2653/2653\u001b[0m \u001b[32m━━━━━━━━━━━━━━━━━━━━\u001b[0m\u001b[37m\u001b[0m \u001b[1m307s\u001b[0m 116ms/step - loss: 0.0252 - mae: 0.1272 - val_loss: 0.0285 - val_mae: 0.1407\n",
            "Epoch 16/20\n",
            "\u001b[1m2653/2653\u001b[0m \u001b[32m━━━━━━━━━━━━━━━━━━━━\u001b[0m\u001b[37m\u001b[0m \u001b[1m310s\u001b[0m 117ms/step - loss: 0.0252 - mae: 0.1271 - val_loss: 0.0285 - val_mae: 0.1407\n",
            "Epoch 17/20\n",
            "\u001b[1m2653/2653\u001b[0m \u001b[32m━━━━━━━━━━━━━━━━━━━━\u001b[0m\u001b[37m\u001b[0m \u001b[1m313s\u001b[0m 118ms/step - loss: 0.0252 - mae: 0.1271 - val_loss: 0.0285 - val_mae: 0.1407\n",
            "Epoch 18/20\n",
            "\u001b[1m2653/2653\u001b[0m \u001b[32m━━━━━━━━━━━━━━━━━━━━\u001b[0m\u001b[37m\u001b[0m \u001b[1m293s\u001b[0m 110ms/step - loss: 0.0252 - mae: 0.1272 - val_loss: 0.0284 - val_mae: 0.1403\n",
            "Epoch 19/20\n",
            "\u001b[1m2653/2653\u001b[0m \u001b[32m━━━━━━━━━━━━━━━━━━━━\u001b[0m\u001b[37m\u001b[0m \u001b[1m323s\u001b[0m 111ms/step - loss: 0.0253 - mae: 0.1272 - val_loss: 0.0283 - val_mae: 0.1402\n",
            "Epoch 20/20\n",
            "\u001b[1m2653/2653\u001b[0m \u001b[32m━━━━━━━━━━━━━━━━━━━━\u001b[0m\u001b[37m\u001b[0m \u001b[1m295s\u001b[0m 111ms/step - loss: 0.0252 - mae: 0.1271 - val_loss: 0.0286 - val_mae: 0.1412\n",
            "\u001b[1m379/379\u001b[0m \u001b[32m━━━━━━━━━━━━━━━━━━━━\u001b[0m\u001b[37m\u001b[0m \u001b[1m13s\u001b[0m 34ms/step - loss: 0.0268 - mae: 0.1367\n",
            "Test Loss: 0.02691633440554142, Test Mean Absolute Error: 0.13659179210662842\n"
          ]
        }
      ],
      "source": [
        "lstm_model = tf.keras.models.Sequential([\n",
        "    tf.keras.layers.LSTM(256, return_sequences=True, activation='relu',\n",
        "                         input_shape=(window_size, train_scaled_df.shape[1])),\n",
        "    tf.keras.layers.Dropout(0.3),\n",
        "    tf.keras.layers.LSTM(64),\n",
        "    tf.keras.layers.Dropout(0.3),\n",
        "    layers.Dense(32, activation='relu'),\n",
        "    tf.keras.layers.Dense(1)\n",
        "])\n",
        "\n",
        "\n",
        "lstm_model.compile(\n",
        "    optimizer='adam',\n",
        "    loss='mse',\n",
        "    metrics=['mae']\n",
        ")\n",
        "\n",
        "\n",
        "\n",
        "MAX_EPOCHS = 20\n",
        "\n",
        "history = lstm_model.fit(\n",
        "    single_step_window.train,\n",
        "    epochs=MAX_EPOCHS,\n",
        "    validation_data=single_step_window.val\n",
        ")\n",
        "\n",
        "test_loss, test_mae = lstm_model.evaluate(single_step_window.test)\n",
        "print(f\"Test Loss: {test_loss}, Test Mean Absolute Error: {test_mae}\")"
      ]
    },
    {
      "cell_type": "code",
      "source": [
        "print (y_pred_scaled)"
      ],
      "metadata": {
        "id": "zEHgugIIM0KD",
        "colab": {
          "base_uri": "https://localhost:8080/",
          "height": 141
        },
        "outputId": "d5b5c599-ef8a-437b-c03e-6239bb487006"
      },
      "execution_count": null,
      "outputs": [
        {
          "output_type": "error",
          "ename": "NameError",
          "evalue": "name 'y_pred_scaled' is not defined",
          "traceback": [
            "\u001b[0;31m---------------------------------------------------------------------------\u001b[0m",
            "\u001b[0;31mNameError\u001b[0m                                 Traceback (most recent call last)",
            "\u001b[0;32m<ipython-input-24-e06a1be50c8f>\u001b[0m in \u001b[0;36m<cell line: 0>\u001b[0;34m()\u001b[0m\n\u001b[0;32m----> 1\u001b[0;31m \u001b[0mprint\u001b[0m \u001b[0;34m(\u001b[0m\u001b[0my_pred_scaled\u001b[0m\u001b[0;34m)\u001b[0m\u001b[0;34m\u001b[0m\u001b[0;34m\u001b[0m\u001b[0m\n\u001b[0m",
            "\u001b[0;31mNameError\u001b[0m: name 'y_pred_scaled' is not defined"
          ]
        }
      ]
    },
    {
      "cell_type": "code",
      "source": [
        "print(\"Original y_test:\", y_test['target_column'].values[:10])\n",
        "print(\"Unscaled y_test after inverse transform:\", y_test_unscaled[:10].flatten())"
      ],
      "metadata": {
        "id": "Tz0VC2XHP7oN"
      },
      "execution_count": null,
      "outputs": []
    },
    {
      "cell_type": "code",
      "source": [
        "print(y_test_unscaled)"
      ],
      "metadata": {
        "id": "8gGFT9LSNLJT"
      },
      "execution_count": null,
      "outputs": []
    },
    {
      "cell_type": "code",
      "source": [
        "single"
      ],
      "metadata": {
        "id": "o98GV2Ixp-XS"
      },
      "execution_count": null,
      "outputs": []
    },
    {
      "cell_type": "code",
      "execution_count": null,
      "metadata": {
        "id": "hjxp6JjvG0SM"
      },
      "outputs": [],
      "source": [
        "\n",
        "y_pred_scaled = lstm_model.predict(single_step_window.test)\n",
        "\n",
        "\n",
        "y_true = []\n",
        "for _, labels in single_step_window.test:\n",
        "    y_true.append(labels.numpy())\n",
        "y_true = np.concatenate(y_true, axis=0)\n",
        "\n",
        "y_test_unscaled = scaler_for_data.inverse_transform(y_true.reshape(-1, 1))\n",
        "y_pred_unscaled = scaler_for_data.inverse_transform(y_pred_scaled)\n",
        "\n",
        "\n",
        "from sklearn.metrics import mean_absolute_error\n",
        "mae_unscaled = mean_absolute_error(y_test_unscaled, y_pred_unscaled)\n",
        "\n",
        "print(f\"Unscaled Test MAE: {mae_unscaled} \")"
      ]
    },
    {
      "cell_type": "code",
      "execution_count": null,
      "metadata": {
        "id": "lesTQgpaRCXZ"
      },
      "outputs": [],
      "source": [
        "predictions = lstm_model.predict(single_step_window.test)\n",
        "\n",
        "\n",
        "if predictions.shape[1] != 1:\n",
        "    predictions = predictions.reshape(-1, 1)\n",
        "\n",
        "unscaled_predictions = scaler_for_data.inverse_transform(predictions)\n",
        "\n",
        "unscaled_actuals = scaler_for_data.inverse_transform(test_scaled_df[['AEP_MW']].values)\n",
        "\n",
        "unscaled_actuals = unscaled_actuals[-len(unscaled_predictions):]\n",
        "\n",
        "mse_unscaled = mean_squared_error(unscaled_predictions, unscaled_actuals)\n",
        "print(f\"Mean Squared Error (Unscaled Data): {mse_unscaled}\")"
      ]
    },
    {
      "cell_type": "code",
      "execution_count": null,
      "metadata": {
        "id": "LcWK_64q5HJ5"
      },
      "outputs": [],
      "source": [
        "\n",
        "\n",
        "y_pred = lstm_model.predict(single_step_window.test)\n",
        "y_true = []\n",
        "for _, labels in single_step_window.test:\n",
        "    y_true.append(labels.numpy())\n",
        "\n",
        "y_true = np.concatenate(y_true, axis=0)\n",
        "y_pred = y_pred.reshape(-1)\n",
        "\n",
        "def mean_absolute_percentage_error(y_true, y_pred):\n",
        "  y_true, y_pred = np.array(y_true), np.array(y_pred)\n",
        "  y_true = y_true.reshape(-1)\n",
        "  nonzero_indices = y_true != 0\n",
        "  return np.mean(np.abs((y_true[nonzero_indices] - y_pred[nonzero_indices]) / y_true[nonzero_indices])) * 100\n",
        "\n",
        "\n",
        "mape = mean_absolute_percentage_error(y_true, y_pred)\n",
        "\n",
        "\n",
        "print(f\"Test Loss: {test_loss:.4f}\")\n",
        "print(f\"Test Mean Absolute Percentage Error (MAPE): {mape:.2f}%\")\n",
        "\n"
      ]
    },
    {
      "cell_type": "code",
      "execution_count": null,
      "metadata": {
        "id": "Z2Yl0PkUII83"
      },
      "outputs": [],
      "source": [
        "\n",
        "\n",
        "y_pred_scaled = lstm_model.predict(single_step_window.test)\n",
        "\n",
        "\n",
        "y_true = []\n",
        "for _, labels in single_step_window.test:\n",
        "    y_true.append(labels.numpy())\n",
        "y_true = np.concatenate(y_true, axis=0)\n",
        "\n",
        "y_test_unscaled = scaler_for_data.inverse_transform(y_true.reshape(-1, 1))\n",
        "y_pred_unscaled = scaler_for_data.inverse_transform(y_pred_scaled)\n",
        "\n",
        "\n",
        "mape_unscaled = np.mean(np.abs((y_test_unscaled - y_pred_unscaled) / y_test_unscaled)) * 100\n",
        "\n",
        "print(f\"Unscaled Test MAPE: {mape_unscaled:.2f}%\")"
      ]
    },
    {
      "cell_type": "code",
      "execution_count": null,
      "metadata": {
        "id": "AaAcmcQr5900"
      },
      "outputs": [],
      "source": [
        "predictions = lstm_model.predict(single_step_window.test)\n",
        "\n",
        "predictions = predictions.reshape(-1, 1)\n",
        "\n",
        "\n",
        "#unscaled_predictions = scaler_for_data.inverse_transform(predictions)\n",
        "#unscaled_actuals = scaler_for_data.inverse_transform(test_scaled_df[['AEP_MW']].values)\n",
        "#unscaled_actuals = unscaled_actuals[-len(unscaled_predictions):]\n",
        "\n",
        "\n",
        "mse_unscaled = mean_squared_error(y_test_unscaled, y_pred_unscaled)\n",
        "print(f\"Mean Squared Error (Unscaled Data): {mse_unscaled}\")"
      ]
    },
    {
      "cell_type": "code",
      "execution_count": null,
      "metadata": {
        "id": "pwnNVgVR3fZI"
      },
      "outputs": [],
      "source": [
        "actual_values = unscaled_actuals\n",
        "\n",
        "plt.plot(df.index[:len(actual_values)], actual_values, label='Actual', color='blue')"
      ]
    },
    {
      "cell_type": "markdown",
      "metadata": {
        "id": "bnIxewvn9aBY"
      },
      "source": [
        "Uses All the values in the test data set in order to get the MAPE"
      ]
    },
    {
      "cell_type": "code",
      "execution_count": null,
      "metadata": {
        "id": "CHwDihJJX-wS"
      },
      "outputs": [],
      "source": [
        "plt.plot(history.history['loss'], label='Training Loss')\n",
        "plt.plot(history.history['val_loss'], label='Validation Loss')\n",
        "plt.legend()\n",
        "plt.title('Model Loss Over Epochs')\n",
        "plt.show()\n"
      ]
    },
    {
      "cell_type": "code",
      "execution_count": null,
      "metadata": {
        "id": "FOrkPH2oWTBs"
      },
      "outputs": [],
      "source": [
        "print(test_df)\n",
        "print(single_step_window.test_df.shape)"
      ]
    },
    {
      "cell_type": "code",
      "execution_count": null,
      "metadata": {
        "id": "Gcxm7ayAZ7O5"
      },
      "outputs": [],
      "source": [
        "predictions_scaled = lstm_model.predict(single_step_window.test)\n",
        "predictions_unscaled = scaler_for_data.inverse_transform(predictions_scaled)\n",
        "actual_unscaled = scaler_for_data.inverse_transform(test_scaled_df)\n",
        "\n",
        "plt.figure(figsize=(12, 6))\n",
        "plt.plot(actual_unscaled[-len(predictions_unscaled):], label='Actual')\n",
        "plt.plot(predictions_unscaled, label='Predicted')\n",
        "plt.xlabel('Time')\n",
        "plt.ylabel('AEP_MW')\n",
        "plt.legend()\n",
        "plt.title('Actual vs Predicted Energy Consumption')\n",
        "plt.show()"
      ]
    },
    {
      "cell_type": "code",
      "execution_count": null,
      "metadata": {
        "id": "_Bc2tarh0WyR"
      },
      "outputs": [],
      "source": [
        "print(predictions_scaled[10000:12000])\n"
      ]
    },
    {
      "cell_type": "code",
      "execution_count": null,
      "metadata": {
        "id": "InRszjjx0fQT"
      },
      "outputs": [],
      "source": [
        "print(df['AEP_MW'][10000:12000])"
      ]
    },
    {
      "cell_type": "code",
      "execution_count": null,
      "metadata": {
        "id": "KfQf5CrsW1Xp"
      },
      "outputs": [],
      "source": [
        "plt.figure(figsize=(12, 6))\n",
        "start_idx = 11000\n",
        "end_idx = 12000\n",
        "\n",
        "plt.plot(df['Datetime'][start_idx:end_idx], df['AEP_MW'][start_idx:end_idx], label='Actual', color='blue')\n",
        "plt.plot(df['Datetime'][start_idx:end_idx], predictions_unscaled[start_idx:end_idx], label='Predicted', color='red')\n",
        "\n",
        "plt.xlabel('Time')\n",
        "plt.ylabel('Energy Consumption (MW)')\n",
        "plt.title('Actual vs Predicted Energy Usage (11,000 to 12,000)')\n",
        "plt.legend()\n",
        "plt.show()"
      ]
    },
    {
      "cell_type": "code",
      "execution_count": null,
      "metadata": {
        "id": "l21dF84wgA-h"
      },
      "outputs": [],
      "source": [
        "predictions_unscaled = scaler_for_data.inverse_transform(predictions_scaled)\n",
        "plt.figure(figsize=(12, 6))\n",
        "\n",
        "plt.plot(predictions_unscaled, label='Predicted')\n",
        "plt.xlabel('Time')\n",
        "plt.ylabel('AEP_MW')\n",
        "plt.legend()\n",
        "plt.title('Prediction Graph')\n",
        "plt.show()\n"
      ]
    },
    {
      "cell_type": "code",
      "execution_count": null,
      "metadata": {
        "id": "AP340mCUBgfr"
      },
      "outputs": [],
      "source": [
        "class Baseline(tf.keras.Model):\n",
        "    def __init__(self, label_index = 0):\n",
        "        super().__init__()\n",
        "        self.label_index = label_index\n",
        "\n",
        "    def call(self, inputs):\n",
        "      result = inputs[:, :, self.label_index]\n",
        "      return result[:, :, tf.newaxis]\n",
        "\n"
      ]
    },
    {
      "cell_type": "code",
      "execution_count": null,
      "metadata": {
        "id": "FWRu5pPDzELq"
      },
      "outputs": [],
      "source": [
        "print(df.index)"
      ]
    },
    {
      "cell_type": "code",
      "execution_count": null,
      "metadata": {
        "id": "CIJymsjGAOOX"
      },
      "outputs": [],
      "source": [
        "print(df['Datetime'].dtype)"
      ]
    },
    {
      "cell_type": "code",
      "execution_count": null,
      "metadata": {
        "id": "FOXAhtAezISy"
      },
      "outputs": [],
      "source": [
        "baseline = Baseline(label_index=0)\n",
        "\n",
        "baseline.compile(\n",
        "    loss=tf.keras.losses.MeanSquaredError(),\n",
        "    metrics=[tf.keras.metrics.MeanAbsoluteError()]\n",
        ")\n",
        "\n"
      ]
    },
    {
      "cell_type": "code",
      "execution_count": null,
      "metadata": {
        "id": "nDjnxx9W0C9P"
      },
      "outputs": [],
      "source": [
        "baseline_result = baseline.evaluate(single_step_window.test)\n",
        "print(\"Baseline Results: \", baseline_result)"
      ]
    },
    {
      "cell_type": "code",
      "execution_count": null,
      "metadata": {
        "id": "56IOpMDG2pd3"
      },
      "outputs": [],
      "source": [
        "one_day_window = WindowGenerator(\n",
        "    input_width=24,\n",
        "    label_width=24,\n",
        "    shift=1,\n",
        "    label_columns=['AEP_MW'],\n",
        "    train_df=train_df,\n",
        "    val_df=val_df,  # Pass validation DataFrame\n",
        "    test_df=test_df  # Pass test DataFrame\n",
        ")"
      ]
    },
    {
      "cell_type": "code",
      "execution_count": null,
      "metadata": {
        "id": "Al-eyO8s25WD"
      },
      "outputs": [],
      "source": [
        "one_day_window.plot(baseline)"
      ]
    },
    {
      "cell_type": "code",
      "execution_count": null,
      "metadata": {
        "id": "Jym7at4Lo1re"
      },
      "outputs": [],
      "source": [
        "wide_window = WindowGenerator(\n",
        "    input_width=720, label_width=720, shift=1,\n",
        "    label_columns=['AEP_MW'],\n",
        "    train_df=train_df,\n",
        "    val_df=val_df,\n",
        "    test_df=test_df\n",
        ")\n",
        "\n"
      ]
    },
    {
      "cell_type": "code",
      "execution_count": null,
      "metadata": {
        "id": "slD5cG1dlOWh"
      },
      "outputs": [],
      "source": [
        "y_pred = model.predict(X_test)\n",
        "mse = mean_squared_error(y_test, y_pred)\n",
        "mae = mean_absolute_error(y_test, y_pred)\n",
        "print(f\"MSE: {mse}, MAE: {mae}\")"
      ]
    },
    {
      "cell_type": "markdown",
      "metadata": {
        "id": "QuCnhRx4ffDd"
      },
      "source": [
        "Compare to Quantum Lstm"
      ]
    }
  ],
  "metadata": {
    "colab": {
      "provenance": [],
      "authorship_tag": "ABX9TyPZ3BVsmHkeZxwTr8Tm+GCq",
      "include_colab_link": true
    },
    "kernelspec": {
      "display_name": "Python 3",
      "name": "python3"
    },
    "language_info": {
      "name": "python"
    }
  },
  "nbformat": 4,
  "nbformat_minor": 0
}