{
  "cells": [
    {
      "cell_type": "code",
      "execution_count": null,
      "metadata": {
        "id": "lmcbeHdE8cI3"
      },
      "outputs": [],
      "source": [
        "import os\n",
        "import datetime\n",
        "import matplotlib.pyplot as plt\n",
        "import numpy as np\n",
        "import pandas as pd\n",
        "import seaborn as sns\n",
        "import tensorflow as tf\n",
        "from tensorflow.keras import layers\n",
        "from sklearn.preprocessing import MinMaxScaler\n",
        "from sklearn.metrics import mean_absolute_error, mean_squared_error\n"
      ]
    },
    {
      "cell_type": "code",
      "execution_count": null,
      "metadata": {
        "colab": {
          "base_uri": "https://localhost:8080/",
          "height": 74
        },
        "id": "simcYMfQmL24",
        "outputId": "29fbd5b9-c8bf-497a-8285-9a2e82ad91eb"
      },
      "outputs": [
        {
          "output_type": "display_data",
          "data": {
            "text/plain": [
              "<IPython.core.display.HTML object>"
            ],
            "text/html": [
              "\n",
              "     <input type=\"file\" id=\"files-b74d35e4-011d-4364-934d-e60572eda864\" name=\"files[]\" multiple disabled\n",
              "        style=\"border:none\" />\n",
              "     <output id=\"result-b74d35e4-011d-4364-934d-e60572eda864\">\n",
              "      Upload widget is only available when the cell has been executed in the\n",
              "      current browser session. Please rerun this cell to enable.\n",
              "      </output>\n",
              "      <script>// Copyright 2017 Google LLC\n",
              "//\n",
              "// Licensed under the Apache License, Version 2.0 (the \"License\");\n",
              "// you may not use this file except in compliance with the License.\n",
              "// You may obtain a copy of the License at\n",
              "//\n",
              "//      http://www.apache.org/licenses/LICENSE-2.0\n",
              "//\n",
              "// Unless required by applicable law or agreed to in writing, software\n",
              "// distributed under the License is distributed on an \"AS IS\" BASIS,\n",
              "// WITHOUT WARRANTIES OR CONDITIONS OF ANY KIND, either express or implied.\n",
              "// See the License for the specific language governing permissions and\n",
              "// limitations under the License.\n",
              "\n",
              "/**\n",
              " * @fileoverview Helpers for google.colab Python module.\n",
              " */\n",
              "(function(scope) {\n",
              "function span(text, styleAttributes = {}) {\n",
              "  const element = document.createElement('span');\n",
              "  element.textContent = text;\n",
              "  for (const key of Object.keys(styleAttributes)) {\n",
              "    element.style[key] = styleAttributes[key];\n",
              "  }\n",
              "  return element;\n",
              "}\n",
              "\n",
              "// Max number of bytes which will be uploaded at a time.\n",
              "const MAX_PAYLOAD_SIZE = 100 * 1024;\n",
              "\n",
              "function _uploadFiles(inputId, outputId) {\n",
              "  const steps = uploadFilesStep(inputId, outputId);\n",
              "  const outputElement = document.getElementById(outputId);\n",
              "  // Cache steps on the outputElement to make it available for the next call\n",
              "  // to uploadFilesContinue from Python.\n",
              "  outputElement.steps = steps;\n",
              "\n",
              "  return _uploadFilesContinue(outputId);\n",
              "}\n",
              "\n",
              "// This is roughly an async generator (not supported in the browser yet),\n",
              "// where there are multiple asynchronous steps and the Python side is going\n",
              "// to poll for completion of each step.\n",
              "// This uses a Promise to block the python side on completion of each step,\n",
              "// then passes the result of the previous step as the input to the next step.\n",
              "function _uploadFilesContinue(outputId) {\n",
              "  const outputElement = document.getElementById(outputId);\n",
              "  const steps = outputElement.steps;\n",
              "\n",
              "  const next = steps.next(outputElement.lastPromiseValue);\n",
              "  return Promise.resolve(next.value.promise).then((value) => {\n",
              "    // Cache the last promise value to make it available to the next\n",
              "    // step of the generator.\n",
              "    outputElement.lastPromiseValue = value;\n",
              "    return next.value.response;\n",
              "  });\n",
              "}\n",
              "\n",
              "/**\n",
              " * Generator function which is called between each async step of the upload\n",
              " * process.\n",
              " * @param {string} inputId Element ID of the input file picker element.\n",
              " * @param {string} outputId Element ID of the output display.\n",
              " * @return {!Iterable<!Object>} Iterable of next steps.\n",
              " */\n",
              "function* uploadFilesStep(inputId, outputId) {\n",
              "  const inputElement = document.getElementById(inputId);\n",
              "  inputElement.disabled = false;\n",
              "\n",
              "  const outputElement = document.getElementById(outputId);\n",
              "  outputElement.innerHTML = '';\n",
              "\n",
              "  const pickedPromise = new Promise((resolve) => {\n",
              "    inputElement.addEventListener('change', (e) => {\n",
              "      resolve(e.target.files);\n",
              "    });\n",
              "  });\n",
              "\n",
              "  const cancel = document.createElement('button');\n",
              "  inputElement.parentElement.appendChild(cancel);\n",
              "  cancel.textContent = 'Cancel upload';\n",
              "  const cancelPromise = new Promise((resolve) => {\n",
              "    cancel.onclick = () => {\n",
              "      resolve(null);\n",
              "    };\n",
              "  });\n",
              "\n",
              "  // Wait for the user to pick the files.\n",
              "  const files = yield {\n",
              "    promise: Promise.race([pickedPromise, cancelPromise]),\n",
              "    response: {\n",
              "      action: 'starting',\n",
              "    }\n",
              "  };\n",
              "\n",
              "  cancel.remove();\n",
              "\n",
              "  // Disable the input element since further picks are not allowed.\n",
              "  inputElement.disabled = true;\n",
              "\n",
              "  if (!files) {\n",
              "    return {\n",
              "      response: {\n",
              "        action: 'complete',\n",
              "      }\n",
              "    };\n",
              "  }\n",
              "\n",
              "  for (const file of files) {\n",
              "    const li = document.createElement('li');\n",
              "    li.append(span(file.name, {fontWeight: 'bold'}));\n",
              "    li.append(span(\n",
              "        `(${file.type || 'n/a'}) - ${file.size} bytes, ` +\n",
              "        `last modified: ${\n",
              "            file.lastModifiedDate ? file.lastModifiedDate.toLocaleDateString() :\n",
              "                                    'n/a'} - `));\n",
              "    const percent = span('0% done');\n",
              "    li.appendChild(percent);\n",
              "\n",
              "    outputElement.appendChild(li);\n",
              "\n",
              "    const fileDataPromise = new Promise((resolve) => {\n",
              "      const reader = new FileReader();\n",
              "      reader.onload = (e) => {\n",
              "        resolve(e.target.result);\n",
              "      };\n",
              "      reader.readAsArrayBuffer(file);\n",
              "    });\n",
              "    // Wait for the data to be ready.\n",
              "    let fileData = yield {\n",
              "      promise: fileDataPromise,\n",
              "      response: {\n",
              "        action: 'continue',\n",
              "      }\n",
              "    };\n",
              "\n",
              "    // Use a chunked sending to avoid message size limits. See b/62115660.\n",
              "    let position = 0;\n",
              "    do {\n",
              "      const length = Math.min(fileData.byteLength - position, MAX_PAYLOAD_SIZE);\n",
              "      const chunk = new Uint8Array(fileData, position, length);\n",
              "      position += length;\n",
              "\n",
              "      const base64 = btoa(String.fromCharCode.apply(null, chunk));\n",
              "      yield {\n",
              "        response: {\n",
              "          action: 'append',\n",
              "          file: file.name,\n",
              "          data: base64,\n",
              "        },\n",
              "      };\n",
              "\n",
              "      let percentDone = fileData.byteLength === 0 ?\n",
              "          100 :\n",
              "          Math.round((position / fileData.byteLength) * 100);\n",
              "      percent.textContent = `${percentDone}% done`;\n",
              "\n",
              "    } while (position < fileData.byteLength);\n",
              "  }\n",
              "\n",
              "  // All done.\n",
              "  yield {\n",
              "    response: {\n",
              "      action: 'complete',\n",
              "    }\n",
              "  };\n",
              "}\n",
              "\n",
              "scope.google = scope.google || {};\n",
              "scope.google.colab = scope.google.colab || {};\n",
              "scope.google.colab._files = {\n",
              "  _uploadFiles,\n",
              "  _uploadFilesContinue,\n",
              "};\n",
              "})(self);\n",
              "</script> "
            ]
          },
          "metadata": {}
        },
        {
          "output_type": "stream",
          "name": "stdout",
          "text": [
            "Saving AEP_hourly.csv to AEP_hourly.csv\n"
          ]
        }
      ],
      "source": [
        "from google.colab import files\n",
        "uploaded = files.upload()"
      ]
    },
    {
      "cell_type": "code",
      "execution_count": null,
      "metadata": {
        "id": "9skiQaGk8cLm"
      },
      "outputs": [],
      "source": [
        "df = pd.read_csv('AEP_hourly.csv')\n",
        "df.rename(columns={'Unnamed: 0': 'Datetime'}, inplace=True)\n",
        "df['Datetime'] = pd.to_datetime(df['Datetime'])\n",
        "df.set_index('Datetime', inplace=True)"
      ]
    },
    {
      "cell_type": "markdown",
      "source": [
        "The file 'AEP_MW' is the file that needs to downloaded and used to makes sure the data is being drawn. From the column 'AEP_MW'. That colummn is a showing of the recording of hourly energy in each household. This data only contains one feature."
      ],
      "metadata": {
        "id": "SvBom76lmBFA"
      }
    },
    {
      "cell_type": "markdown",
      "source": [
        "We load the file in and then we have to rename the first column. Since there was no name first column it is now being renamed to 'Datetime'. It now will hold the timestamps for the data table. The are real datetime **objects**. The datetime column is then set to become a index of the dataframe."
      ],
      "metadata": {
        "id": "6F5u5uD1sQwP"
      }
    },
    {
      "cell_type": "code",
      "execution_count": null,
      "metadata": {
        "colab": {
          "base_uri": "https://localhost:8080/",
          "height": 526
        },
        "id": "uHorKBfS8cOG",
        "outputId": "aba78397-e35d-4c5b-d45f-608334f57f5f"
      },
      "outputs": [
        {
          "output_type": "display_data",
          "data": {
            "text/plain": [
              "<Figure size 1200x600 with 1 Axes>"
            ],
            "image/png": "[encoded data removed]"
          },
          "metadata": {}
        }
      ],
      "source": [
        "\n",
        "df['AEP_MW'].plot(figsize=(12, 6), title='AEP Energy Consumption')\n",
        "plt.show()"
      ]
    },
    {
      "cell_type": "markdown",
      "source": [
        "Here we will produce a graph that shows the Hourly Energy consumption(Y-axis) with the Years attached(X-axis). The X-axis can be changed to produce the hours instead in order to compare to the x-axis."
      ],
      "metadata": {
        "id": "acJP6EtHqsMR"
      }
    },
    {
      "cell_type": "code",
      "execution_count": null,
      "metadata": {
        "id": "OjrKz0XA8cY3"
      },
      "outputs": [],
      "source": [
        "n = len(df)\n",
        "train_df = df[:int(n*0.7)]\n",
        "val_df = df[int(n*0.7):int(n*0.9)]\n",
        "test_df = df[int(n*0.9):]"
      ]
    },
    {
      "cell_type": "markdown",
      "source": [
        "We have a dataset called df, and what we’re trying to do is split it into three parts:\n",
        "\n",
        "*  A training set (for teaching our model),\n",
        "*  A validation set (for tuning the model),\n",
        "*  A test set (for checking how good the model really is).\n",
        "\n",
        "We take the first 70% of the rows to be our training data.\n",
        "This is the data we actually use to teach the model.\n",
        "\n",
        "We grab the next 20% for validation.\n",
        "Validation is like giving the model a mini-test while it’s learning — to see if it's doing well, but without using the real final test yet\n",
        "\n",
        "We grab the last 10% for testing.\n",
        "This is where we finally ask, \"Alright model, did you really learn anything?\" — and we check its performance for real.\n"
      ],
      "metadata": {
        "id": "R-WMx0rPvh4O"
      }
    },
    {
      "cell_type": "code",
      "execution_count": null,
      "metadata": {
        "id": "osgCgQLm8y9H"
      },
      "outputs": [],
      "source": [
        "\n",
        "def create_sequences(data, seq_length):\n",
        "    X, y = [], []\n",
        "    for i in range(len(data) - seq_length):\n",
        "        X.append(data[i:i+seq_length])\n",
        "        y.append(data[i+seq_length])\n",
        "    return np.array(X), np.array(y)"
      ]
    },
    {
      "cell_type": "markdown",
      "source": [
        "This function creates sliding windows of data to train a model:\n",
        " It’s called create_sequences, and it takes two things:\n",
        "\n",
        "data — a list or array of numbers\n",
        "\n",
        "seq_length — how many numbers we want to look at in a row to predict the next number.\n",
        "\n",
        "We grab a chunk of seq_length numbers starting at position i and add it to X.\n",
        "\n",
        "Then, we grab the next number right after that chunk (at i + seq_length) and add it to y.\n",
        "\n",
        "Example:\n",
        "Imagine data = [2, 4, 6, 8, 10, 12] and seq_length = 3:\n",
        "\n",
        "First pass: X = [2, 4, 6], y = 8\n",
        "\n",
        "Second pass: X = [4, 6, 8], y = 10\n",
        "\n",
        "Third pass: X = [6, 8, 10], y = 12\n"
      ],
      "metadata": {
        "id": "I5Oue_wswp84"
      }
    },
    {
      "cell_type": "markdown",
      "source": [
        "This scaler rescales all the numbers so they fit nicely between 0 and 1.\n",
        "(Kind of like squeezing all your test scores onto a scale from 0 to 100 — but here, it’s 0 to 1.)\n",
        "\n"
      ],
      "metadata": {
        "id": "-GvSGI0rxpCs"
      }
    },
    {
      "cell_type": "code",
      "execution_count": null,
      "metadata": {
        "id": "eW9TgO_csHa1"
      },
      "outputs": [],
      "source": [
        "\n",
        "scaler = MinMaxScaler()\n",
        "train_scaled = scaler.fit_transform(train_df)\n",
        "val_scaled = scaler.transform(val_df)\n",
        "test_scaled = scaler.transform(test_df)"
      ]
    },
    {
      "cell_type": "markdown",
      "source": [
        "We use fit_transform on the training data.\n",
        "\n",
        "Fit means the scaler looks at the training data and figures out the minimum and maximum values.\n",
        "\n",
        "Transform means it uses those min and max values to rescale all the training data between 0 and 1."
      ],
      "metadata": {
        "id": "jk4aPjon8laF"
      }
    },
    {
      "cell_type": "code",
      "execution_count": null,
      "metadata": {
        "id": "AHux2WZU8zAf"
      },
      "outputs": [],
      "source": [
        "sequence_length = 24\n",
        "X_train, y_train = create_sequences(train_scaled, sequence_length)\n",
        "X_val, y_val = create_sequences(val_scaled, sequence_length)\n",
        "X_test, y_test = create_sequences(test_scaled, sequence_length)\n"
      ]
    },
    {
      "cell_type": "markdown",
      "source": [
        "This means we’re going to look at 24 time steps at a time — for example, if the data is hourly, that’s one full day (24 hours).\n",
        "\n",
        "We are creating sequences for each of our datasets:\n",
        "\n",
        "For training, we break train_scaled into input sequences (X_train) and the next value we want to predict (y_train).\n",
        "\n",
        "For validation, same thing for val_scaled, giving us X_val and y_val.\n",
        "\n",
        "For testing, same thing for test_scaled, giving us X_test and y_test.\n",
        "\n",
        "Each input (X) will be a sequence of 24 numbers, and each output (y) will be the next number after that 24.\n",
        "\n"
      ],
      "metadata": {
        "id": "NgA_GE_O83q9"
      }
    },
    {
      "cell_type": "code",
      "execution_count": null,
      "metadata": {
        "colab": {
          "base_uri": "https://localhost:8080/"
        },
        "id": "dWUCs2SR8zFO",
        "outputId": "34684261-c201-46b7-b78d-3e221a8de8f4"
      },
      "outputs": [
        {
          "output_type": "stream",
          "name": "stderr",
          "text": [
            "/usr/local/lib/python3.11/dist-packages/keras/src/layers/rnn/rnn.py:200: UserWarning: Do not pass an `input_shape`/`input_dim` argument to a layer. When using Sequential models, prefer using an `Input(shape)` object as the first layer in the model instead.\n",
            "  super().__init__(**kwargs)\n"
          ]
        },
        {
          "output_type": "stream",
          "name": "stdout",
          "text": [
            "Epoch 1/5\n",
            "\u001b[1m1076/4244\u001b[0m \u001b[32m━━━━━\u001b[0m\u001b[37m━━━━━━━━━━━━━━━\u001b[0m \u001b[1m4:30\u001b[0m 85ms/step - loss: 0.0121 - mae: 0.0768"
          ]
        }
      ],
      "source": [
        "\n",
        "model = tf.keras.Sequential([\n",
        "    layers.LSTM(256, return_sequences=True, activation='relu', input_shape=(sequence_length, train_df.shape[1])),\n",
        "    layers.Dropout(0.3),\n",
        "    layers.LSTM(64),\n",
        "    layers.Dropout(0.3),\n",
        "    layers.Dense(32, activation='relu'),\n",
        "    layers.Dense(1)\n",
        "])\n",
        "\n",
        "model.compile(optimizer='adam', loss='mse', metrics=['mae'])\n",
        "\n",
        "history = model.fit(\n",
        "    X_train, y_train,\n",
        "    validation_data=(X_val, y_val),\n",
        "    epochs=5,\n",
        "    batch_size=20\n",
        ")\n"
      ]
    },
    {
      "cell_type": "markdown",
      "source": [
        "It’s an LSTM (Long Short-Term Memory) layer — a special type of neural network good for time series or sequence data. Dropout layer — we randomly turn off 30% of the neurons during training to help prevent overfitting (basically, so the model doesn't just memorize the training data). Final dense layer — only 1 output.\n",
        "\n",
        "* 256 units = it has 256 memory cells (like 256 little brains).\n",
        "\n",
        "* return_sequences=True = we tell it to return the full sequence for the next LSTM to keep working with.\n",
        "\n",
        "* activation='relu' = adds some non-linearity (makes it able to learn more complex patterns).\n",
        "\n",
        "* input_shape=(sequence_length, train_df.shape[1]) = the model expects inputs of 24 time steps and however many features (columns) we have in the data.\n",
        "\n",
        "* optimizer='adam' = Adam is a really good general optimizer for neural networks.\n",
        "\n",
        "* loss='mse' = we are minimizing Mean Squared Error (good for continuous numbers).\n",
        "\n",
        "* metrics=['mae'] = we also track Mean Absolute Error (how wrong we are, on average).\n",
        "\n",
        "* Train on X_train, y_train.\n",
        "\n",
        "* Validate performance on X_val, y_val after each epoch.\n",
        "\n",
        "* Epochs =20 = we go through the entire training set 20 times.\n",
        "\n",
        "* Batch size= 20 = we update the model after every 20 samples.\n",
        "\n",
        "\n",
        "\n",
        "\n",
        "\n"
      ],
      "metadata": {
        "id": "thsTCGVJ9Iez"
      }
    },
    {
      "cell_type": "code",
      "execution_count": null,
      "metadata": {
        "id": "qKgjjaKA8zKY"
      },
      "outputs": [],
      "source": [
        "\n",
        "y_pred_scaled = model.predict(X_test)\n",
        "y_pred = scaler.inverse_transform(y_pred_scaled.reshape(-1, 1))\n",
        "y_test_unscaled = scaler.inverse_transform(y_test.reshape(-1, 1))\n"
      ]
    },
    {
      "cell_type": "markdown",
      "source": [
        "Here, we use the trained model to predict values based on X_test (our test sequences).\n",
        "\n",
        "These predictions are still scaled between 0 and 1 — remember, we scaled the data earlier!\n",
        "* inverse_transform takes the numbers back to their original range (real-world units like megawatts, dollars, temperatures, etc.).\n",
        "\n",
        "* .reshape(-1, 1) is needed because inverse_transform expects a 2D array, not 1D.\n",
        "\n",
        "* Same thing for the true y_test values — we unscale the real labels too.\n",
        "\n",
        "Now both the predictions and the actual test values are in the same real-world scale, so we can compare them properly."
      ],
      "metadata": {
        "id": "WDrvRJXYAW7X"
      }
    },
    {
      "cell_type": "code",
      "execution_count": null,
      "metadata": {
        "id": "6-Ye290jeMzX"
      },
      "outputs": [],
      "source": [
        "start, end = 10000, 12000\n",
        "\n",
        "for i in range(start, end):\n",
        "    print(f\"Timestep {i}: Actual = {y_test_unscaled[i][0]}, Predicted = {y_pred[i][0]}\")\n"
      ]
    },
    {
      "cell_type": "markdown",
      "source": [
        "Now we viualize the data printing from around 2000 of those 8000 of the test data set letting the class know how to become more than what it was. Printing both the timestep (the number of hours) and the the Megawatts into graphs"
      ],
      "metadata": {
        "id": "pl51jZuNAogm"
      }
    },
    {
      "cell_type": "code",
      "execution_count": null,
      "metadata": {
        "id": "--sREw9ZeOSF"
      },
      "outputs": [],
      "source": [
        "plt.figure(figsize=(12, 6))\n",
        "plt.plot(y_test_unscaled[start:end], label='Actual', color='blue')\n",
        "plt.plot(y_pred[start:end], label='Predicted', color='red')\n",
        "plt.xlabel('Timestep')\n",
        "plt.ylabel('AEP_MW')\n",
        "plt.title('Actual vs Predicted Energy Consumption (Timesteps 10000-12000)')\n",
        "plt.legend()\n",
        "plt.show()"
      ]
    },
    {
      "cell_type": "code",
      "execution_count": null,
      "metadata": {
        "id": "Z-jWaEVG8zH-"
      },
      "outputs": [],
      "source": [
        "test_loss, test_mae = model.evaluate(X_test, y_test)\n",
        "print(f\"Test Loss: {test_loss}, Test MAE: {test_mae}\")"
      ]
    },
    {
      "cell_type": "code",
      "execution_count": null,
      "metadata": {
        "id": "lUhGtW_08zQ3"
      },
      "outputs": [],
      "source": [
        "plt.figure(figsize=(12, 6))\n",
        "plt.plot(y_test_unscaled, label='Actual', color='blue')\n",
        "plt.plot(y_pred, label='Predicted', color='red')\n",
        "plt.xlabel('Timestep')\n",
        "plt.ylabel('AEP_MW')\n",
        "plt.title('Actual vs Predicted Energy Consumption')\n",
        "plt.legend()\n",
        "plt.show()\n"
      ]
    },
    {
      "cell_type": "code",
      "execution_count": null,
      "metadata": {
        "id": "yj8PHLG4KV6H"
      },
      "outputs": [],
      "source": [
        "start = 10000\n",
        "end = 12000\n",
        "\n",
        "# Make sure that y_test_unscaled and y_pred contain data for these timesteps\n",
        "plt.figure(figsize=(12, 6))\n",
        "plt.plot(y_test_unscaled[start:end], label='Actual', color='blue')\n",
        "plt.plot(y_pred[start:end], label='Predicted', color='red')\n",
        "plt.xlabel('Timestep')\n",
        "plt.ylabel('AEP_MW')\n",
        "plt.title('Actual vs Predicted Energy Consumption (Timesteps 10000-12000)')\n",
        "plt.legend()\n",
        "plt.show()"
      ]
    },
    {
      "cell_type": "code",
      "execution_count": null,
      "metadata": {
        "id": "jFyurzl09Fui"
      },
      "outputs": [],
      "source": [
        "mse_unscaled = mean_squared_error(y_test_unscaled, y_pred)\n",
        "print(f\"Mean Squared Error (Unscaled Data): {mse_unscaled}\")"
      ]
    }
  ],
  "metadata": {
    "colab": {
      "provenance": []
    },
    "kernelspec": {
      "display_name": "Python 3",
      "name": "python3"
    },
    "language_info": {
      "name": "python"
    }
  },
  "nbformat": 4,
  "nbformat_minor": 0
}